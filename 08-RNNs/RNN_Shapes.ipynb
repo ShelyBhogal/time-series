{
 "cells": [
  {
   "cell_type": "markdown",
   "id": "59fdba69",
   "metadata": {},
   "source": [
    "# Understanding RNNs by Shapes\n",
    "\n",
    "**The best way to understand a Recurrent Neural Network is by implementing a simple RNN to track the shape of the data and model parameters as they pass through, starting with the input data:**\n",
    "\n",
    "<img src=\"image.png\" alt=\"Input\" width=\"600\"/>\n",
    "\n",
    "**You should know the following by heart before building an RNN model:**\n",
    "\n",
    "* **`N` - number of samples**\n",
    "* **`T` - sequence length (no of timesteps)**\n",
    "* **`D` - number of input features, or feature dimensionality**\n",
    "* **`M` - number of hidden neurons per unit**\n",
    "* **`K` - number of output units**\n",
    "\n",
    "**The input data is *N* x *T* x *D*, to output *N* x *K*. Note that K > 1 is possible for a regression task if it is multidimensional, e.g. predicting latitude and longitude coordinates.**\n",
    "\n",
    "**In order to manually build RNN model (to compare with TensorFlow), you need the equation to find the hidden value at the hidden layer, using the model weights from the simple RNN:**\n",
    "\n",
    "$$\n",
    "  h_1 = \\delta ({W_h^T}{h_{t-1} + b_h}\\, + {W_x^T}{x_t + b_x})\n",
    "$$\n",
    "\n",
    "**To generate the manual predictions, use the model weights from the outer layer to multiply input by weight plus bias term.**"
   ]
  },
  {
   "cell_type": "code",
   "execution_count": 1,
   "id": "83780d5e",
   "metadata": {},
   "outputs": [],
   "source": [
    "import pandas as pd\n",
    "import numpy as np\n",
    "import matplotlib.pyplot as plt\n",
    "\n",
    "import tensorflow as tf\n",
    "from tensorflow.keras.layers import Dense, Input, Flatten, SimpleRNN\n",
    "from tensorflow.keras.models import Model\n",
    "from tensorflow.keras.optimizers import SGD, Adam\n",
    "\n",
    "%matplotlib inline"
   ]
  },
  {
   "cell_type": "code",
   "execution_count": 2,
   "id": "b992f830",
   "metadata": {},
   "outputs": [],
   "source": [
    "# Create dummy data with size variables (only working with one sample)\n",
    "\n",
    "N = 1\n",
    "\n",
    "T = 10\n",
    "\n",
    "D = 3\n",
    "\n",
    "K = 2\n",
    "\n",
    "X = np.random.randn(N, T, D)"
   ]
  },
  {
   "cell_type": "code",
   "execution_count": 3,
   "id": "0f273ed7",
   "metadata": {},
   "outputs": [
    {
     "data": {
      "text/plain": [
       "(1, 10, 3)"
      ]
     },
     "execution_count": 3,
     "metadata": {},
     "output_type": "execute_result"
    }
   ],
   "source": [
    "X.shape"
   ]
  },
  {
   "cell_type": "code",
   "execution_count": 5,
   "id": "bfc715c5",
   "metadata": {},
   "outputs": [],
   "source": [
    "# ------------------------------------ TensorFlow RNN\n",
    "\n",
    "M = 5\n",
    "\n",
    "i = Input(shape=(T, D))\n",
    "\n",
    "x = SimpleRNN(M)(i)\n",
    "\n",
    "x = Dense(K)(x)\n",
    "\n",
    "model = Model(i, x)"
   ]
  },
  {
   "cell_type": "code",
   "execution_count": 6,
   "id": "c5753579",
   "metadata": {},
   "outputs": [
    {
     "name": "stdout",
     "output_type": "stream",
     "text": [
      "1/1 [==============================] - 0s 487ms/step\n",
      "[[-0.63061917  0.12452571]]\n"
     ]
    }
   ],
   "source": [
    "# Predict with model - this means nothing since you don't have actual values to compare to (Y)\n",
    "\n",
    "y_hat = model.predict(X)\n",
    "\n",
    "print(y_hat)"
   ]
  },
  {
   "cell_type": "markdown",
   "id": "4ea6e71c",
   "metadata": {},
   "source": [
    "**Note that we have one sample prediction with two output nodes, i.e. *N* x *K*.**"
   ]
  },
  {
   "cell_type": "code",
   "execution_count": 7,
   "id": "c3f88202",
   "metadata": {},
   "outputs": [
    {
     "name": "stdout",
     "output_type": "stream",
     "text": [
      "Model: \"model\"\n",
      "_________________________________________________________________\n",
      " Layer (type)                Output Shape              Param #   \n",
      "=================================================================\n",
      " input_1 (InputLayer)        [(None, 10, 3)]           0         \n",
      "                                                                 \n",
      " simple_rnn (SimpleRNN)      (None, 5)                 45        \n",
      "                                                                 \n",
      " dense (Dense)               (None, 2)                 12        \n",
      "                                                                 \n",
      "=================================================================\n",
      "Total params: 57\n",
      "Trainable params: 57\n",
      "Non-trainable params: 0\n",
      "_________________________________________________________________\n"
     ]
    }
   ],
   "source": [
    "model.summary()"
   ]
  },
  {
   "cell_type": "code",
   "execution_count": 8,
   "id": "129fc14f",
   "metadata": {},
   "outputs": [
    {
     "data": {
      "text/plain": [
       "[array([[ 0.43968147,  0.21117991, -0.8349118 ,  0.18456918,  0.43172258],\n",
       "        [-0.3318646 , -0.5044817 ,  0.41810113, -0.22511888,  0.40751594],\n",
       "        [ 0.3039102 ,  0.7216609 , -0.07823646,  0.63885313, -0.50507176]],\n",
       "       dtype=float32),\n",
       " array([[ 0.49027526, -0.24690863,  0.6648533 , -0.4100977 , -0.297416  ],\n",
       "        [ 0.57537746, -0.11377349, -0.38948414,  0.49453896, -0.50963676],\n",
       "        [ 0.01049809,  0.08345936,  0.602319  ,  0.74983966,  0.26053122],\n",
       "        [-0.65056723, -0.18075931,  0.17830363,  0.13051908, -0.70374775],\n",
       "        [-0.07227032, -0.9415159 , -0.10812978,  0.08919635,  0.29778627]],\n",
       "       dtype=float32),\n",
       " array([0., 0., 0., 0., 0.], dtype=float32)]"
      ]
     },
     "execution_count": 8,
     "metadata": {},
     "output_type": "execute_result"
    }
   ],
   "source": [
    "# Array of weights\n",
    "\n",
    "model.layers[1].get_weights()"
   ]
  },
  {
   "cell_type": "code",
   "execution_count": 14,
   "id": "654fc3e4",
   "metadata": {},
   "outputs": [
    {
     "name": "stdout",
     "output_type": "stream",
     "text": [
      "MODEL WEIGHTS:\n",
      "Input to Hidden (D x M): (3, 5)\n",
      "Hidden to Hidden (M x M): (5, 5)\n",
      "Bias Term (M): (5,)\n"
     ]
    }
   ],
   "source": [
    "a, b, c = model.layers[1].get_weights()\n",
    "\n",
    "print(\"MODEL WEIGHTS:\")\n",
    "print(\"Input to Hidden (D x M):\", a.shape)\n",
    "print(\"Hidden to Hidden (M x M):\", b.shape)\n",
    "print(\"Bias Term (M):\", c.shape)"
   ]
  },
  {
   "cell_type": "code",
   "execution_count": 15,
   "id": "c315afdc",
   "metadata": {},
   "outputs": [],
   "source": [
    "# Index the weights at each layer appropriately\n",
    "\n",
    "Wx, Wh, bh = model.layers[1].get_weights()\n",
    "\n",
    "# Output layer\n",
    "Wo, bo = model.layers[2].get_weights()"
   ]
  },
  {
   "cell_type": "code",
   "execution_count": 17,
   "id": "267e58e0",
   "metadata": {},
   "outputs": [
    {
     "name": "stdout",
     "output_type": "stream",
     "text": [
      "[-0.63061914  0.12452582]\n"
     ]
    }
   ],
   "source": [
    "# -------------------------------- Manual RNN calculation\n",
    "\n",
    "# Initial hidden state\n",
    "h_last = np.zeros(M)\n",
    "\n",
    "# One and only sample\n",
    "x = X[0]\n",
    "\n",
    "# Store output\n",
    "y_hats = []\n",
    "\n",
    "for t in range(T):\n",
    "    # hidden value at hidden layer - tanh(x*w1 + xt-1*w2 + b)\n",
    "    h = np.tanh(x[t].dot(Wx) + h_last.dot(Wh) + bh)\n",
    "    # Only care about this on last iteration\n",
    "    y = h.dot(Wo) + bo\n",
    "    y_hats.append(y)\n",
    "    \n",
    "    # IMPORTANT: assign h to h_last\n",
    "    h_last = h\n",
    "    \n",
    "# Print final output\n",
    "print(y_hats[-1])"
   ]
  },
  {
   "cell_type": "markdown",
   "id": "f5f52299",
   "metadata": {},
   "source": [
    "**The results are exactly the same as predicting with the simple RNN model.**\n",
    "\n",
    "**EXERCISE:**\n",
    "\n",
    "* **Calculate the output for mutiple samples at once (N > 1)**"
   ]
  },
  {
   "cell_type": "code",
   "execution_count": null,
   "id": "a172349e",
   "metadata": {},
   "outputs": [],
   "source": []
  }
 ],
 "metadata": {
  "kernelspec": {
   "display_name": "Python 3 (ipykernel)",
   "language": "python",
   "name": "python3"
  },
  "language_info": {
   "codemirror_mode": {
    "name": "ipython",
    "version": 3
   },
   "file_extension": ".py",
   "mimetype": "text/x-python",
   "name": "python",
   "nbconvert_exporter": "python",
   "pygments_lexer": "ipython3",
   "version": "3.9.17"
  }
 },
 "nbformat": 4,
 "nbformat_minor": 5
}
